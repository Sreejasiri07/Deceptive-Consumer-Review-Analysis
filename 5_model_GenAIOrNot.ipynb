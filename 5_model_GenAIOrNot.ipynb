{
  "cells": [
    {
      "cell_type": "code",
      "execution_count": null,
      "id": "f1ddc23d",
      "metadata": {
        "id": "f1ddc23d"
      },
      "outputs": [],
      "source": [
        "++++++++++import numpy as np\n",
        "import pandas as pd\n",
        "import seaborn as sns\n",
        "import matplotlib.pyplot as plt\n",
        "%matplotlib inline\n",
        "import warnings, string\n",
        "warnings.filterwarnings('ignore')\n",
        "from sklearn.model_selection import train_test_split, GridSearchCV\n",
        "from sklearn.metrics import classification_report, confusion_matrix, accuracy_score\n",
        "import nltk\n",
        "from nltk.corpus import stopwords\n",
        "from sklearn.feature_extraction.text import CountVectorizer, TfidfTransformer\n",
        "from sklearn.naive_bayes import MultinomialNB\n",
        "from sklearn.pipeline import Pipeline\n",
        "from sklearn.ensemble import RandomForestClassifier\n",
        "from sklearn.tree import DecisionTreeClassifier\n",
        "from sklearn.neighbors import KNeighborsClassifier\n",
        "from sklearn.svm import SVC\n",
        "from sklearn.linear_model import LogisticRegression"
      ]
    },
    {
      "cell_type": "code",
      "execution_count": null,
      "id": "46e09e82",
      "metadata": {
        "colab": {
          "base_uri": "https://localhost:8080/",
          "height": 316
        },
        "id": "46e09e82",
        "outputId": "cee30916-33eb-4a71-bfb1-8e75711c4e76"
      },
      "outputs": [
        {
          "output_type": "error",
          "ename": "FileNotFoundError",
          "evalue": "[Errno 2] No such file or directory: '/content/drive/MyDrive/Preprocessed_Fake_Reviews_Detection_Dataset.csv'",
          "traceback": [
            "\u001b[0;31m---------------------------------------------------------------------------\u001b[0m",
            "\u001b[0;31mFileNotFoundError\u001b[0m                         Traceback (most recent call last)",
            "\u001b[0;32m<ipython-input-2-0a7ba93b6097>\u001b[0m in \u001b[0;36m<cell line: 1>\u001b[0;34m()\u001b[0m\n\u001b[0;32m----> 1\u001b[0;31m \u001b[0mdf\u001b[0m \u001b[0;34m=\u001b[0m \u001b[0mpd\u001b[0m\u001b[0;34m.\u001b[0m\u001b[0mread_csv\u001b[0m\u001b[0;34m(\u001b[0m\u001b[0;34mr'/content/drive/MyDrive/Preprocessed_Fake_Reviews_Detection_Dataset.csv'\u001b[0m\u001b[0;34m)\u001b[0m\u001b[0;34m\u001b[0m\u001b[0;34m\u001b[0m\u001b[0m\n\u001b[0m\u001b[1;32m      2\u001b[0m \u001b[0mdf\u001b[0m\u001b[0;34m.\u001b[0m\u001b[0mhead\u001b[0m\u001b[0;34m(\u001b[0m\u001b[0;34m)\u001b[0m\u001b[0;34m\u001b[0m\u001b[0;34m\u001b[0m\u001b[0m\n",
            "\u001b[0;32m/usr/local/lib/python3.10/dist-packages/pandas/io/parsers/readers.py\u001b[0m in \u001b[0;36mread_csv\u001b[0;34m(filepath_or_buffer, sep, delimiter, header, names, index_col, usecols, dtype, engine, converters, true_values, false_values, skipinitialspace, skiprows, skipfooter, nrows, na_values, keep_default_na, na_filter, verbose, skip_blank_lines, parse_dates, infer_datetime_format, keep_date_col, date_parser, date_format, dayfirst, cache_dates, iterator, chunksize, compression, thousands, decimal, lineterminator, quotechar, quoting, doublequote, escapechar, comment, encoding, encoding_errors, dialect, on_bad_lines, delim_whitespace, low_memory, memory_map, float_precision, storage_options, dtype_backend)\u001b[0m\n\u001b[1;32m    946\u001b[0m     \u001b[0mkwds\u001b[0m\u001b[0;34m.\u001b[0m\u001b[0mupdate\u001b[0m\u001b[0;34m(\u001b[0m\u001b[0mkwds_defaults\u001b[0m\u001b[0;34m)\u001b[0m\u001b[0;34m\u001b[0m\u001b[0;34m\u001b[0m\u001b[0m\n\u001b[1;32m    947\u001b[0m \u001b[0;34m\u001b[0m\u001b[0m\n\u001b[0;32m--> 948\u001b[0;31m     \u001b[0;32mreturn\u001b[0m \u001b[0m_read\u001b[0m\u001b[0;34m(\u001b[0m\u001b[0mfilepath_or_buffer\u001b[0m\u001b[0;34m,\u001b[0m \u001b[0mkwds\u001b[0m\u001b[0;34m)\u001b[0m\u001b[0;34m\u001b[0m\u001b[0;34m\u001b[0m\u001b[0m\n\u001b[0m\u001b[1;32m    949\u001b[0m \u001b[0;34m\u001b[0m\u001b[0m\n\u001b[1;32m    950\u001b[0m \u001b[0;34m\u001b[0m\u001b[0m\n",
            "\u001b[0;32m/usr/local/lib/python3.10/dist-packages/pandas/io/parsers/readers.py\u001b[0m in \u001b[0;36m_read\u001b[0;34m(filepath_or_buffer, kwds)\u001b[0m\n\u001b[1;32m    609\u001b[0m \u001b[0;34m\u001b[0m\u001b[0m\n\u001b[1;32m    610\u001b[0m     \u001b[0;31m# Create the parser.\u001b[0m\u001b[0;34m\u001b[0m\u001b[0;34m\u001b[0m\u001b[0m\n\u001b[0;32m--> 611\u001b[0;31m     \u001b[0mparser\u001b[0m \u001b[0;34m=\u001b[0m \u001b[0mTextFileReader\u001b[0m\u001b[0;34m(\u001b[0m\u001b[0mfilepath_or_buffer\u001b[0m\u001b[0;34m,\u001b[0m \u001b[0;34m**\u001b[0m\u001b[0mkwds\u001b[0m\u001b[0;34m)\u001b[0m\u001b[0;34m\u001b[0m\u001b[0;34m\u001b[0m\u001b[0m\n\u001b[0m\u001b[1;32m    612\u001b[0m \u001b[0;34m\u001b[0m\u001b[0m\n\u001b[1;32m    613\u001b[0m     \u001b[0;32mif\u001b[0m \u001b[0mchunksize\u001b[0m \u001b[0;32mor\u001b[0m \u001b[0miterator\u001b[0m\u001b[0;34m:\u001b[0m\u001b[0;34m\u001b[0m\u001b[0;34m\u001b[0m\u001b[0m\n",
            "\u001b[0;32m/usr/local/lib/python3.10/dist-packages/pandas/io/parsers/readers.py\u001b[0m in \u001b[0;36m__init__\u001b[0;34m(self, f, engine, **kwds)\u001b[0m\n\u001b[1;32m   1446\u001b[0m \u001b[0;34m\u001b[0m\u001b[0m\n\u001b[1;32m   1447\u001b[0m         \u001b[0mself\u001b[0m\u001b[0;34m.\u001b[0m\u001b[0mhandles\u001b[0m\u001b[0;34m:\u001b[0m \u001b[0mIOHandles\u001b[0m \u001b[0;34m|\u001b[0m \u001b[0;32mNone\u001b[0m \u001b[0;34m=\u001b[0m \u001b[0;32mNone\u001b[0m\u001b[0;34m\u001b[0m\u001b[0;34m\u001b[0m\u001b[0m\n\u001b[0;32m-> 1448\u001b[0;31m         \u001b[0mself\u001b[0m\u001b[0;34m.\u001b[0m\u001b[0m_engine\u001b[0m \u001b[0;34m=\u001b[0m \u001b[0mself\u001b[0m\u001b[0;34m.\u001b[0m\u001b[0m_make_engine\u001b[0m\u001b[0;34m(\u001b[0m\u001b[0mf\u001b[0m\u001b[0;34m,\u001b[0m \u001b[0mself\u001b[0m\u001b[0;34m.\u001b[0m\u001b[0mengine\u001b[0m\u001b[0;34m)\u001b[0m\u001b[0;34m\u001b[0m\u001b[0;34m\u001b[0m\u001b[0m\n\u001b[0m\u001b[1;32m   1449\u001b[0m \u001b[0;34m\u001b[0m\u001b[0m\n\u001b[1;32m   1450\u001b[0m     \u001b[0;32mdef\u001b[0m \u001b[0mclose\u001b[0m\u001b[0;34m(\u001b[0m\u001b[0mself\u001b[0m\u001b[0;34m)\u001b[0m \u001b[0;34m->\u001b[0m \u001b[0;32mNone\u001b[0m\u001b[0;34m:\u001b[0m\u001b[0;34m\u001b[0m\u001b[0;34m\u001b[0m\u001b[0m\n",
            "\u001b[0;32m/usr/local/lib/python3.10/dist-packages/pandas/io/parsers/readers.py\u001b[0m in \u001b[0;36m_make_engine\u001b[0;34m(self, f, engine)\u001b[0m\n\u001b[1;32m   1703\u001b[0m                 \u001b[0;32mif\u001b[0m \u001b[0;34m\"b\"\u001b[0m \u001b[0;32mnot\u001b[0m \u001b[0;32min\u001b[0m \u001b[0mmode\u001b[0m\u001b[0;34m:\u001b[0m\u001b[0;34m\u001b[0m\u001b[0;34m\u001b[0m\u001b[0m\n\u001b[1;32m   1704\u001b[0m                     \u001b[0mmode\u001b[0m \u001b[0;34m+=\u001b[0m \u001b[0;34m\"b\"\u001b[0m\u001b[0;34m\u001b[0m\u001b[0;34m\u001b[0m\u001b[0m\n\u001b[0;32m-> 1705\u001b[0;31m             self.handles = get_handle(\n\u001b[0m\u001b[1;32m   1706\u001b[0m                 \u001b[0mf\u001b[0m\u001b[0;34m,\u001b[0m\u001b[0;34m\u001b[0m\u001b[0;34m\u001b[0m\u001b[0m\n\u001b[1;32m   1707\u001b[0m                 \u001b[0mmode\u001b[0m\u001b[0;34m,\u001b[0m\u001b[0;34m\u001b[0m\u001b[0;34m\u001b[0m\u001b[0m\n",
            "\u001b[0;32m/usr/local/lib/python3.10/dist-packages/pandas/io/common.py\u001b[0m in \u001b[0;36mget_handle\u001b[0;34m(path_or_buf, mode, encoding, compression, memory_map, is_text, errors, storage_options)\u001b[0m\n\u001b[1;32m    861\u001b[0m         \u001b[0;32mif\u001b[0m \u001b[0mioargs\u001b[0m\u001b[0;34m.\u001b[0m\u001b[0mencoding\u001b[0m \u001b[0;32mand\u001b[0m \u001b[0;34m\"b\"\u001b[0m \u001b[0;32mnot\u001b[0m \u001b[0;32min\u001b[0m \u001b[0mioargs\u001b[0m\u001b[0;34m.\u001b[0m\u001b[0mmode\u001b[0m\u001b[0;34m:\u001b[0m\u001b[0;34m\u001b[0m\u001b[0;34m\u001b[0m\u001b[0m\n\u001b[1;32m    862\u001b[0m             \u001b[0;31m# Encoding\u001b[0m\u001b[0;34m\u001b[0m\u001b[0;34m\u001b[0m\u001b[0m\n\u001b[0;32m--> 863\u001b[0;31m             handle = open(\n\u001b[0m\u001b[1;32m    864\u001b[0m                 \u001b[0mhandle\u001b[0m\u001b[0;34m,\u001b[0m\u001b[0;34m\u001b[0m\u001b[0;34m\u001b[0m\u001b[0m\n\u001b[1;32m    865\u001b[0m                 \u001b[0mioargs\u001b[0m\u001b[0;34m.\u001b[0m\u001b[0mmode\u001b[0m\u001b[0;34m,\u001b[0m\u001b[0;34m\u001b[0m\u001b[0;34m\u001b[0m\u001b[0m\n",
            "\u001b[0;31mFileNotFoundError\u001b[0m: [Errno 2] No such file or directory: '/content/drive/MyDrive/Preprocessed_Fake_Reviews_Detection_Dataset.csv'"
          ]
        }
      ],
      "source": [
        "df = pd.read_csv(r'/content/drive/MyDrive/Preprocessed_Fake_Reviews_Detection_Dataset.csv')\n",
        "df.head()"
      ]
    },
    {
      "cell_type": "code",
      "execution_count": null,
      "id": "LCAly8wRDbwC",
      "metadata": {
        "id": "LCAly8wRDbwC"
      },
      "outputs": [],
      "source": [
        "from google.colab import drive\n",
        "drive.mount('/content/drive')"
      ]
    },
    {
      "cell_type": "code",
      "execution_count": null,
      "id": "ec807090",
      "metadata": {
        "id": "ec807090"
      },
      "outputs": [],
      "source": [
        "df.drop('Unnamed: 0',axis=1,inplace=True)"
      ]
    },
    {
      "cell_type": "code",
      "execution_count": null,
      "id": "210251cc",
      "metadata": {
        "id": "210251cc"
      },
      "outputs": [],
      "source": [
        "df.head()"
      ]
    },
    {
      "cell_type": "code",
      "execution_count": null,
      "id": "a5763dfc",
      "metadata": {
        "id": "a5763dfc"
      },
      "outputs": [],
      "source": [
        "df.dropna(inplace=True)"
      ]
    },
    {
      "cell_type": "code",
      "execution_count": null,
      "id": "304aa467",
      "metadata": {
        "id": "304aa467"
      },
      "outputs": [],
      "source": [
        "df['length'] = df['text_'].apply(len)"
      ]
    },
    {
      "cell_type": "code",
      "execution_count": null,
      "id": "e0c47197",
      "metadata": {
        "id": "e0c47197"
      },
      "outputs": [],
      "source": [
        "df.info()"
      ]
    },
    {
      "cell_type": "code",
      "execution_count": null,
      "id": "6148dffc",
      "metadata": {
        "id": "6148dffc"
      },
      "outputs": [],
      "source": [
        "plt.hist(df['length'],bins=50)\n",
        "plt.show()"
      ]
    },
    {
      "cell_type": "code",
      "execution_count": null,
      "id": "78e8500d",
      "metadata": {
        "id": "78e8500d"
      },
      "outputs": [],
      "source": [
        "df.groupby('label').describe()"
      ]
    },
    {
      "cell_type": "code",
      "execution_count": null,
      "id": "e466777e",
      "metadata": {
        "id": "e466777e"
      },
      "outputs": [],
      "source": [
        "df.hist(column='length',by='label',bins=50,color='blue',figsize=(12,5))\n",
        "plt.show()"
      ]
    },
    {
      "cell_type": "markdown",
      "id": "092b8ad0",
      "metadata": {
        "id": "092b8ad0"
      },
      "source": [
        "Let's extract the largest review..."
      ]
    },
    {
      "cell_type": "code",
      "execution_count": null,
      "id": "7e20b02e",
      "metadata": {
        "id": "7e20b02e"
      },
      "outputs": [],
      "source": [
        "df[df['label']=='OR'][['text_','length']].sort_values(by='length',ascending=False).head().iloc[0].text_"
      ]
    },
    {
      "cell_type": "code",
      "execution_count": null,
      "id": "c9d5a480",
      "metadata": {
        "id": "c9d5a480"
      },
      "outputs": [],
      "source": [
        "df.length.describe()"
      ]
    },
    {
      "cell_type": "code",
      "execution_count": null,
      "id": "81649454",
      "metadata": {
        "id": "81649454"
      },
      "outputs": [],
      "source": [
        "def text_process(review):\n",
        "    nopunc = [char for char in review if char not in string.punctuation]\n",
        "    nopunc = ''.join(nopunc)\n",
        "    return [word for word in nopunc.split() if word.lower() not in stopwords.words('english')]"
      ]
    },
    {
      "cell_type": "code",
      "execution_count": null,
      "id": "d3fc209c",
      "metadata": {
        "id": "d3fc209c"
      },
      "outputs": [],
      "source": [
        "bow_transformer = CountVectorizer(analyzer=text_process)\n",
        "bow_transformer"
      ]
    },
    {
      "cell_type": "code",
      "execution_count": null,
      "id": "mL6IFM1GEeOD",
      "metadata": {
        "id": "mL6IFM1GEeOD"
      },
      "outputs": [],
      "source": [
        "import nltk\n",
        "nltk.download('stopwords')\n"
      ]
    },
    {
      "cell_type": "code",
      "execution_count": null,
      "id": "bdb678ef",
      "metadata": {
        "id": "bdb678ef"
      },
      "outputs": [],
      "source": [
        "bow_transformer.fit(df['text_'])\n",
        "print(\"Total Vocabulary:\",len(bow_transformer.vocabulary_))"
      ]
    },
    {
      "cell_type": "code",
      "execution_count": null,
      "id": "07e1d8e5",
      "metadata": {
        "id": "07e1d8e5"
      },
      "outputs": [],
      "source": [
        "review4 = df['text_'][3]\n",
        "review4"
      ]
    },
    {
      "cell_type": "code",
      "execution_count": null,
      "id": "d6fdd2b0",
      "metadata": {
        "id": "d6fdd2b0"
      },
      "outputs": [],
      "source": [
        "bow_msg4 = bow_transformer.transform([review4])\n",
        "print(bow_msg4)\n",
        "print(bow_msg4.shape)"
      ]
    },
    {
      "cell_type": "markdown",
      "id": "61fa8d1a",
      "metadata": {
        "id": "61fa8d1a"
      },
      "source": [
        "There are 6 unique words in the 4th review."
      ]
    },
    {
      "cell_type": "code",
      "execution_count": null,
      "id": "600e72bb",
      "metadata": {
        "id": "600e72bb"
      },
      "outputs": [],
      "source": [
        "print(bow_transformer.get_feature_names_out()[15841])\n",
        "print(bow_transformer.get_feature_names_out()[23848])"
      ]
    },
    {
      "cell_type": "code",
      "execution_count": null,
      "id": "b00e702c",
      "metadata": {
        "id": "b00e702c"
      },
      "outputs": [],
      "source": [
        "bow_reviews = bow_transformer.transform(df['text_'])"
      ]
    },
    {
      "cell_type": "code",
      "execution_count": null,
      "id": "87b42dd1",
      "metadata": {
        "id": "87b42dd1"
      },
      "outputs": [],
      "source": [
        "print(\"Shape of Bag of Words Transformer for the entire reviews corpus:\",bow_reviews.shape)\n",
        "print(\"Amount of non zero values in the bag of words model:\",bow_reviews.nnz)"
      ]
    },
    {
      "cell_type": "code",
      "execution_count": null,
      "id": "bb8dd9b7",
      "metadata": {
        "id": "bb8dd9b7"
      },
      "outputs": [],
      "source": [
        "print(\"Sparsity:\",np.round((bow_reviews.nnz/(bow_reviews.shape[0]*bow_reviews.shape[1]))*100,2))"
      ]
    },
    {
      "cell_type": "code",
      "execution_count": null,
      "id": "e9d84aa8",
      "metadata": {
        "id": "e9d84aa8"
      },
      "outputs": [],
      "source": [
        "tfidf_transformer = TfidfTransformer().fit(bow_reviews)\n",
        "tfidf_rev4 = tfidf_transformer.transform(bow_msg4)\n",
        "print(bow_msg4)"
      ]
    },
    {
      "cell_type": "code",
      "execution_count": null,
      "id": "9dc5bf62",
      "metadata": {
        "id": "9dc5bf62"
      },
      "outputs": [],
      "source": [
        "print(tfidf_transformer.idf_[bow_transformer.vocabulary_['mango']])\n",
        "print(tfidf_transformer.idf_[bow_transformer.vocabulary_['book']])"
      ]
    },
    {
      "cell_type": "code",
      "execution_count": null,
      "id": "144873ee",
      "metadata": {
        "id": "144873ee"
      },
      "outputs": [],
      "source": [
        "tfidf_reviews = tfidf_transformer.transform(bow_reviews)\n",
        "print(\"Shape:\",tfidf_reviews.shape)\n",
        "print(\"No. of Dimensions:\",tfidf_reviews.ndim)"
      ]
    },
    {
      "cell_type": "markdown",
      "id": "7a11fecb",
      "metadata": {
        "id": "7a11fecb"
      },
      "source": [
        "## Creating training and testing data"
      ]
    },
    {
      "cell_type": "code",
      "execution_count": null,
      "id": "501767f8",
      "metadata": {
        "id": "501767f8"
      },
      "outputs": [],
      "source": [
        "review_train, review_test, label_train, label_test = train_test_split(df['text_'],df['label'],test_size=0.35)"
      ]
    },
    {
      "cell_type": "code",
      "execution_count": null,
      "id": "ca4043a3",
      "metadata": {
        "id": "ca4043a3"
      },
      "outputs": [],
      "source": [
        "pipeline = Pipeline([\n",
        "    ('bow',CountVectorizer(analyzer=text_process)),\n",
        "    ('tfidf',TfidfTransformer()),\n",
        "    ('classifier',MultinomialNB())\n",
        "])"
      ]
    },
    {
      "cell_type": "markdown",
      "id": "549f1e01",
      "metadata": {
        "id": "549f1e01"
      },
      "source": [
        "## Training and testing Multinomial Naive Bayes Algorithm on the preprocessed data"
      ]
    },
    {
      "cell_type": "code",
      "execution_count": null,
      "id": "dd5c82d6",
      "metadata": {
        "id": "dd5c82d6"
      },
      "outputs": [],
      "source": [
        "pipeline.fit(review_train,label_train)"
      ]
    },
    {
      "cell_type": "code",
      "execution_count": null,
      "id": "5c5d2587",
      "metadata": {
        "id": "5c5d2587"
      },
      "outputs": [],
      "source": [
        "predictions = pipeline.predict(review_test)\n",
        "predictions"
      ]
    },
    {
      "cell_type": "code",
      "execution_count": null,
      "id": "f921c833",
      "metadata": {
        "id": "f921c833"
      },
      "outputs": [],
      "source": [
        "print('Classification Report:',classification_report(label_test,predictions))\n",
        "print('Confusion Matrix:',confusion_matrix(label_test,predictions))\n",
        "print('Accuracy Score:',accuracy_score(label_test,predictions))"
      ]
    },
    {
      "cell_type": "code",
      "execution_count": null,
      "id": "f9a1b893",
      "metadata": {
        "id": "f9a1b893"
      },
      "outputs": [],
      "source": [
        "print('Model Prediction Accuracy:',str(np.round(accuracy_score(label_test,predictions)*100,2)) + '%')"
      ]
    },
    {
      "cell_type": "code",
      "execution_count": null,
      "id": "ce7083df",
      "metadata": {
        "id": "ce7083df"
      },
      "outputs": [],
      "source": [
        "pipeline = Pipeline([\n",
        "    ('bow',CountVectorizer(analyzer=text_process)),\n",
        "    ('tfidf',TfidfTransformer()),\n",
        "    ('classifier',RandomForestClassifier())\n",
        "])"
      ]
    },
    {
      "cell_type": "code",
      "execution_count": null,
      "id": "7e5aad6e",
      "metadata": {
        "id": "7e5aad6e",
        "collapsed": true
      },
      "outputs": [],
      "source": [
        "pipeline.fit(review_train,label_train)"
      ]
    },
    {
      "cell_type": "code",
      "execution_count": null,
      "id": "0ab07e65",
      "metadata": {
        "id": "0ab07e65"
      },
      "outputs": [],
      "source": [
        "rfc_pred = pipeline.predict(review_test)\n",
        "rfc_pred"
      ]
    },
    {
      "cell_type": "code",
      "execution_count": null,
      "id": "68e19966",
      "metadata": {
        "id": "68e19966"
      },
      "outputs": [],
      "source": [
        "print('Classification Report:',classification_report(label_test,rfc_pred))\n",
        "print('Confusion Matrix:',confusion_matrix(label_test,rfc_pred))\n",
        "print('Accuracy Score:',accuracy_score(label_test,rfc_pred))\n",
        "print('Model Prediction Accuracy:',str(np.round(accuracy_score(label_test,rfc_pred)*100,2)) + '%')"
      ]
    },
    {
      "cell_type": "code",
      "execution_count": null,
      "id": "0c018b28",
      "metadata": {
        "id": "0c018b28"
      },
      "outputs": [],
      "source": [
        "pipeline = Pipeline([\n",
        "    ('bow',CountVectorizer(analyzer=text_process)),\n",
        "    ('tfidf',TfidfTransformer()),\n",
        "    ('classifier',DecisionTreeClassifier())\n",
        "])"
      ]
    },
    {
      "cell_type": "code",
      "execution_count": null,
      "id": "9e33916b",
      "metadata": {
        "id": "9e33916b"
      },
      "outputs": [],
      "source": [
        "pipeline.fit(review_train,label_train)"
      ]
    },
    {
      "cell_type": "code",
      "execution_count": null,
      "id": "5e483f90",
      "metadata": {
        "id": "5e483f90"
      },
      "outputs": [],
      "source": [
        "dtree_pred = pipeline.predict(review_test)\n",
        "dtree_pred"
      ]
    },
    {
      "cell_type": "code",
      "execution_count": null,
      "id": "c775e38e",
      "metadata": {
        "id": "c775e38e"
      },
      "outputs": [],
      "source": [
        "print('Classification Report:',classification_report(label_test,dtree_pred))\n",
        "print('Confusion Matrix:',confusion_matrix(label_test,dtree_pred))\n",
        "print('Accuracy Score:',accuracy_score(label_test,dtree_pred))\n",
        "print('Model Prediction Accuracy:',str(np.round(accuracy_score(label_test,dtree_pred)*100,2)) + '%')"
      ]
    },
    {
      "cell_type": "code",
      "execution_count": null,
      "id": "d2e130f7",
      "metadata": {
        "id": "d2e130f7"
      },
      "outputs": [],
      "source": [
        "pipeline = Pipeline([\n",
        "    ('bow',CountVectorizer(analyzer=text_process)),\n",
        "    ('tfidf',TfidfTransformer()),\n",
        "    ('classifier',KNeighborsClassifier(n_neighbors=2))\n",
        "])"
      ]
    },
    {
      "cell_type": "code",
      "execution_count": null,
      "id": "b014bfd6",
      "metadata": {
        "id": "b014bfd6"
      },
      "outputs": [],
      "source": [
        "pipeline.fit(review_train,label_train)"
      ]
    },
    {
      "cell_type": "code",
      "execution_count": null,
      "id": "af69506a",
      "metadata": {
        "id": "af69506a"
      },
      "outputs": [],
      "source": [
        "knn_pred = pipeline.predict(review_test)\n",
        "knn_pred"
      ]
    },
    {
      "cell_type": "code",
      "execution_count": null,
      "id": "f9d23318",
      "metadata": {
        "id": "f9d23318"
      },
      "outputs": [],
      "source": [
        "print('Classification Report:',classification_report(label_test,knn_pred))\n",
        "print('Confusion Matrix:',confusion_matrix(label_test,knn_pred))\n",
        "print('Accuracy Score:',accuracy_score(label_test,knn_pred))\n",
        "print('Model Prediction Accuracy:',str(np.round(accuracy_score(label_test,knn_pred)*100,2)) + '%')"
      ]
    },
    {
      "cell_type": "code",
      "execution_count": null,
      "id": "411b3693",
      "metadata": {
        "id": "411b3693"
      },
      "outputs": [],
      "source": [
        "pipeline = Pipeline([\n",
        "    ('bow',CountVectorizer(analyzer=text_process)),\n",
        "    ('tfidf',TfidfTransformer()),\n",
        "    ('classifier',SVC())\n",
        "\n",
        "    ])"
      ]
    },
    {
      "cell_type": "code",
      "execution_count": null,
      "id": "d166fa0b",
      "metadata": {
        "id": "d166fa0b"
      },
      "outputs": [],
      "source": [
        "pipeline.fit(review_train,label_train)"
      ]
    },
    {
      "cell_type": "code",
      "execution_count": null,
      "id": "6b1224c9",
      "metadata": {
        "id": "6b1224c9"
      },
      "outputs": [],
      "source": [
        "svc_pred = pipeline.predict(review_test)\n",
        "svc_pred"
      ]
    },
    {
      "cell_type": "code",
      "execution_count": null,
      "id": "xEMd1G8QI4Zj",
      "metadata": {
        "id": "xEMd1G8QI4Zj"
      },
      "outputs": [],
      "source": [
        "import pickle"
      ]
    },
    {
      "cell_type": "code",
      "execution_count": null,
      "id": "5YKRSA5OI03V",
      "metadata": {
        "id": "5YKRSA5OI03V"
      },
      "outputs": [],
      "source": [
        "# Extract the vectorizer and the classifier from the pipeline\n",
        "#vectorizer = pipeline.named_steps['bow']\n",
        "#classifier = pipeline.named_steps['classifier']\n",
        "\n",
        "# Save the vectorizer and classifier separately\n",
        "#with open('count1_vectorizer.pkl', 'wb') as f:\n",
        "#    pickle.dump(vectorizer, f)\n",
        "\n",
        "#with open('svm_model.pkl', 'wb') as f:\n",
        "#    pickle.dump(classifier, f)\n"
      ]
    },
    {
      "cell_type": "code",
      "execution_count": null,
      "id": "tvNFJV7yHsf9",
      "metadata": {
        "id": "tvNFJV7yHsf9"
      },
      "outputs": [],
      "source": [
        "#SAVING THE BEST MODEL WITH ITS RESPECTIVE VECTORIZER\n",
        "pickle.dump(svc_pred, open('/content/drive/MyDrive/svm_model.pkl', 'wb'))\n",
        "pickle.dump(CountVectorizer, open('/content/drive/MyDrive/count1_vectorizer.pkl', 'wb'))"
      ]
    },
    {
      "cell_type": "code",
      "execution_count": null,
      "id": "UeP8coG0qJrB",
      "metadata": {
        "id": "UeP8coG0qJrB"
      },
      "outputs": [],
      "source": [
        "import pickle\n",
        "from sklearn.pipeline import Pipeline\n",
        "from sklearn.feature_extraction.text import CountVectorizer, TfidfTransformer\n",
        "from sklearn.svm import SVC\n",
        "with open('svm_pipeline.pkl', 'wb') as file:\n",
        "    pickle.dump(pipeline, file)\n",
        "\n",
        "print(\"Pipeline has been pickled and saved as 'svm_pipeline.pkl'.\")\n"
      ]
    },
    {
      "cell_type": "code",
      "execution_count": null,
      "id": "fb5086a5",
      "metadata": {
        "id": "fb5086a5"
      },
      "outputs": [],
      "source": [
        "print('Classification Report:',classification_report(label_test,svc_pred))\n",
        "print('Confusion Matrix:',confusion_matrix(label_test,svc_pred))\n",
        "print('Accuracy Score:',accuracy_score(label_test,svc_pred))\n",
        "print('Model Prediction Accuracy:',str(np.round(accuracy_score(label_test,svc_pred)*100,2)) + '%')"
      ]
    },
    {
      "cell_type": "code",
      "execution_count": null,
      "id": "fe899074",
      "metadata": {
        "id": "fe899074"
      },
      "outputs": [],
      "source": [
        "pipeline = Pipeline([\n",
        "    ('bow',CountVectorizer(analyzer=text_process)),\n",
        "    ('tfidf',TfidfTransformer()),\n",
        "    ('classifier',LogisticRegression())\n",
        "])"
      ]
    },
    {
      "cell_type": "code",
      "execution_count": null,
      "id": "c0daa08e",
      "metadata": {
        "id": "c0daa08e"
      },
      "outputs": [],
      "source": [
        "pipeline.fit(review_train,label_train)"
      ]
    },
    {
      "cell_type": "code",
      "execution_count": null,
      "id": "087b741a",
      "metadata": {
        "id": "087b741a"
      },
      "outputs": [],
      "source": [
        "lr_pred = pipeline.predict(review_test)\n",
        "lr_pred"
      ]
    },
    {
      "cell_type": "code",
      "execution_count": null,
      "id": "a992daa6",
      "metadata": {
        "id": "a992daa6"
      },
      "outputs": [],
      "source": [
        "print('Classification Report:',classification_report(label_test,lr_pred))\n",
        "print('Confusion Matrix:',confusion_matrix(label_test,lr_pred))\n",
        "print('Accuracy Score:',accuracy_score(label_test,lr_pred))\n",
        "print('Model Prediction Accuracy:',str(np.round(accuracy_score(label_test,lr_pred)*100,2)) + '%')"
      ]
    },
    {
      "cell_type": "markdown",
      "id": "d6e0caeb",
      "metadata": {
        "id": "d6e0caeb"
      },
      "source": [
        "# Conclusion"
      ]
    },
    {
      "cell_type": "code",
      "execution_count": null,
      "id": "d092c25e",
      "metadata": {
        "id": "d092c25e"
      },
      "outputs": [],
      "source": [
        "print('Performance of various ML models:')\n",
        "print('\\n')\n",
        "print('Logistic Regression Prediction Accuracy:',str(np.round(accuracy_score(label_test,lr_pred)*100,2)) + '%')\n",
        "print('K Nearest Neighbors Prediction Accuracy:',str(np.round(accuracy_score(label_test,knn_pred)*100,2)) + '%')\n",
        "print('Decision Tree Classifier Prediction Accuracy:',str(np.round(accuracy_score(label_test,dtree_pred)*100,2)) + '%')\n",
        "print('Random Forests Classifier Prediction Accuracy:',str(np.round(accuracy_score(label_test,rfc_pred)*100,2)) + '%')\n",
        "print('Support Vector Machines Prediction Accuracy:',str(np.round(accuracy_score(label_test,svc_pred)*100,2)) + '%')\n",
        "print('Multinomial Naive Bayes Prediction Accuracy:',str(np.round(accuracy_score(label_test,predictions)*100,2)) + '%')"
      ]
    },
    {
      "cell_type": "code",
      "execution_count": null,
      "id": "OUFv2LputO18",
      "metadata": {
        "id": "OUFv2LputO18"
      },
      "outputs": [],
      "source": [
        "type(review_test)"
      ]
    },
    {
      "cell_type": "code",
      "execution_count": null,
      "id": "qAJKXXYXtZo4",
      "metadata": {
        "id": "qAJKXXYXtZo4"
      },
      "outputs": [],
      "source": []
    }
  ],
  "metadata": {
    "colab": {
      "provenance": []
    },
    "kernelspec": {
      "display_name": "Python 3 (ipykernel)",
      "language": "python",
      "name": "python3"
    },
    "language_info": {
      "codemirror_mode": {
        "name": "ipython",
        "version": 3
      },
      "file_extension": ".py",
      "mimetype": "text/x-python",
      "name": "python",
      "nbconvert_exporter": "python",
      "pygments_lexer": "ipython3",
      "version": "3.8.8"
    }
  },
  "nbformat": 4,
  "nbformat_minor": 5
}